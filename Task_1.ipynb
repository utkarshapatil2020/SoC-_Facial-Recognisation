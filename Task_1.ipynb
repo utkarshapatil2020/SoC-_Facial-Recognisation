{
  "nbformat": 4,
  "nbformat_minor": 0,
  "metadata": {
    "colab": {
      "name": "Task 1",
      "provenance": [],
      "authorship_tag": "ABX9TyMRTVAEeXJjMvgsPG5YKa9G",
      "include_colab_link": true
    },
    "kernelspec": {
      "name": "python3",
      "display_name": "Python 3"
    },
    "language_info": {
      "name": "python"
    }
  },
  "cells": [
    {
      "cell_type": "markdown",
      "metadata": {
        "id": "view-in-github",
        "colab_type": "text"
      },
      "source": [
        "<a href=\"https://colab.research.google.com/github/utkarshapatil2020/SoC-2k21/blob/main/Task_1.ipynb\" target=\"_parent\"><img src=\"https://colab.research.google.com/assets/colab-badge.svg\" alt=\"Open In Colab\"/></a>"
      ]
    },
    {
      "cell_type": "markdown",
      "metadata": {
        "id": "NQlkrxRO7Mzp"
      },
      "source": [
        ""
      ]
    },
    {
      "cell_type": "markdown",
      "metadata": {
        "id": "T3RgC00I_ee4"
      },
      "source": [
        "#File"
      ]
    },
    {
      "cell_type": "code",
      "metadata": {
        "colab": {
          "base_uri": "https://localhost:8080/"
        },
        "id": "Tq3kBRIm5GSp",
        "outputId": "02f1ddf1-f747-4f90-bbb5-a1d6b5af096e"
      },
      "source": [
        "import pandas as pd\n",
        "df=pd.read_csv('/content/Dataset.csv')\n",
        "\n",
        "print(df)"
      ],
      "execution_count": 27,
      "outputs": [
        {
          "output_type": "stream",
          "text": [
            "          country  year  ... gdp_per_capita ($)       generation\n",
            "0         Albania  1987  ...                796     Generation X\n",
            "1         Albania  1987  ...                796           Silent\n",
            "2         Albania  1987  ...                796     Generation X\n",
            "3         Albania  1987  ...                796  G.I. Generation\n",
            "4         Albania  1987  ...                796          Boomers\n",
            "...           ...   ...  ...                ...              ...\n",
            "27815  Uzbekistan  2014  ...               2309     Generation X\n",
            "27816  Uzbekistan  2014  ...               2309           Silent\n",
            "27817  Uzbekistan  2014  ...               2309     Generation Z\n",
            "27818  Uzbekistan  2014  ...               2309     Generation Z\n",
            "27819  Uzbekistan  2014  ...               2309          Boomers\n",
            "\n",
            "[27820 rows x 12 columns]\n"
          ],
          "name": "stdout"
        }
      ]
    },
    {
      "cell_type": "markdown",
      "metadata": {
        "id": "7zRuJ_ZbGP74"
      },
      "source": [
        "#Portion of the Data"
      ]
    },
    {
      "cell_type": "code",
      "metadata": {
        "colab": {
          "base_uri": "https://localhost:8080/"
        },
        "id": "IQgmbXLrE2pL",
        "outputId": "28c0cc64-53cb-4a25-8870-c0b06d682580"
      },
      "source": [
        "import pandas as pd\n",
        "df=pd.read_csv('/content/Dataset.csv')\n",
        "\n",
        "print(df.head())"
      ],
      "execution_count": 10,
      "outputs": [
        {
          "output_type": "stream",
          "text": [
            "   country  year  ... gdp_per_capita ($)       generation\n",
            "0  Albania  1987  ...                796     Generation X\n",
            "1  Albania  1987  ...                796           Silent\n",
            "2  Albania  1987  ...                796     Generation X\n",
            "3  Albania  1987  ...                796  G.I. Generation\n",
            "4  Albania  1987  ...                796          Boomers\n",
            "\n",
            "[5 rows x 12 columns]\n"
          ],
          "name": "stdout"
        }
      ]
    },
    {
      "cell_type": "code",
      "metadata": {
        "id": "wV-RBIXeGXG5"
      },
      "source": [
        "#Reading of records and variables"
      ],
      "execution_count": null,
      "outputs": []
    },
    {
      "cell_type": "code",
      "metadata": {
        "colab": {
          "base_uri": "https://localhost:8080/"
        },
        "id": "5UguUiTBAXDQ",
        "outputId": "202d28fc-2424-4c92-8de0-f0e6f7e0a0e9"
      },
      "source": [
        "import pandas as pd\n",
        "df=pd.read_csv('/content/Dataset.csv')\n",
        "\n",
        "print(\n",
        "    ' num_rec :' , df.shape[0],\n",
        "      '\\n',\n",
        "      'num_var :',df.shape[1]\n",
        "      )\n"
      ],
      "execution_count": 9,
      "outputs": [
        {
          "output_type": "stream",
          "text": [
            " num_rec : 27820 \n",
            " num_var : 12\n"
          ],
          "name": "stdout"
        }
      ]
    },
    {
      "cell_type": "code",
      "metadata": {
        "colab": {
          "base_uri": "https://localhost:8080/"
        },
        "id": "Dssp9HtqFfuZ",
        "outputId": "27976db6-40e7-4c69-9236-ac3dad1eb62f"
      },
      "source": [
        "import pandas as pd\n",
        "df=pd.read_csv('/content/Dataset.csv')\n",
        "\n",
        "print(\n",
        "    ' num_rec :' , df.head().shape[0],\n",
        "      '\\n',\n",
        "      'num_var :',df.head().shape[1]\n",
        "      )\n"
      ],
      "execution_count": 8,
      "outputs": [
        {
          "output_type": "stream",
          "text": [
            " num_rec : 5 \n",
            " num_var : 12\n"
          ],
          "name": "stdout"
        }
      ]
    },
    {
      "cell_type": "markdown",
      "metadata": {
        "id": "JWVLSKJVLvP7"
      },
      "source": [
        "#Data type of each variable"
      ]
    },
    {
      "cell_type": "code",
      "metadata": {
        "colab": {
          "base_uri": "https://localhost:8080/"
        },
        "id": "Z2154SoIE8WV",
        "outputId": "e0da564d-88e9-44db-9a4b-07f1cd3cd5f8"
      },
      "source": [
        "import pandas as pd\n",
        "df=pd.read_csv('/content/Dataset.csv')\n",
        "\n",
        "print(\n",
        "    df.dtypes\n",
        "      )\n"
      ],
      "execution_count": 7,
      "outputs": [
        {
          "output_type": "stream",
          "text": [
            "country                object\n",
            "year                    int64\n",
            "sex                    object\n",
            "age                    object\n",
            "suicides_no             int64\n",
            "population              int64\n",
            "suicides/100k pop     float64\n",
            "country-year           object\n",
            "HDI for year          float64\n",
            " gdp_for_year ($)      object\n",
            "gdp_per_capita ($)      int64\n",
            "generation             object\n",
            "dtype: object\n"
          ],
          "name": "stdout"
        }
      ]
    },
    {
      "cell_type": "markdown",
      "metadata": {
        "id": "s4oATPwYNYwY"
      },
      "source": [
        "#Number of unique values for each variable"
      ]
    },
    {
      "cell_type": "code",
      "metadata": {
        "colab": {
          "base_uri": "https://localhost:8080/"
        },
        "id": "WRMah-6-Av-X",
        "outputId": "abdea0dc-a27a-42cc-f4e5-a6430547d0d1"
      },
      "source": [
        "import pandas as pd\n",
        "df=pd.read_csv('/content/Dataset.csv')\n",
        "\n",
        "print(\n",
        "  df.nunique()\n",
        "      )\n"
      ],
      "execution_count": 6,
      "outputs": [
        {
          "output_type": "stream",
          "text": [
            "country                 101\n",
            "year                     32\n",
            "sex                       2\n",
            "age                       6\n",
            "suicides_no            2084\n",
            "population            25564\n",
            "suicides/100k pop      5298\n",
            "country-year           2321\n",
            "HDI for year            305\n",
            " gdp_for_year ($)      2321\n",
            "gdp_per_capita ($)     2233\n",
            "generation                6\n",
            "dtype: int64\n"
          ],
          "name": "stdout"
        }
      ]
    },
    {
      "cell_type": "markdown",
      "metadata": {
        "id": "_iJ6K10_SpOL"
      },
      "source": [
        "# Number of missing entries\n",
        "\n",
        "issing entries"
      ]
    },
    {
      "cell_type": "code",
      "metadata": {
        "colab": {
          "base_uri": "https://localhost:8080/"
        },
        "id": "TQamlAS3E_sg",
        "outputId": "bb74c4cb-dbe3-4f94-eea8-b80adb4bc1ac"
      },
      "source": [
        "import pandas as pd\n",
        "df=pd.read_csv('/content/Dataset.csv')\n",
        "\n",
        "print(\n",
        "  \n",
        "  df.isnull().sum()\n",
        "      )\n"
      ],
      "execution_count": 5,
      "outputs": [
        {
          "output_type": "stream",
          "text": [
            "country                   0\n",
            "year                      0\n",
            "sex                       0\n",
            "age                       0\n",
            "suicides_no               0\n",
            "population                0\n",
            "suicides/100k pop         0\n",
            "country-year              0\n",
            "HDI for year          19456\n",
            " gdp_for_year ($)         0\n",
            "gdp_per_capita ($)        0\n",
            "generation                0\n",
            "dtype: int64\n"
          ],
          "name": "stdout"
        }
      ]
    },
    {
      "cell_type": "markdown",
      "metadata": {
        "id": "2uxiRvHaTGWB"
      },
      "source": [
        "#Num of records with no missing entries"
      ]
    },
    {
      "cell_type": "code",
      "metadata": {
        "colab": {
          "base_uri": "https://localhost:8080/"
        },
        "id": "cmzjEBOg_k4v",
        "outputId": "e7e27b5c-3d15-4ef5-95f7-eacae2328e33"
      },
      "source": [
        "import pandas as pd\n",
        "df=pd.read_csv('/content/Dataset.csv')\n",
        "\n",
        "print(\n",
        "  \n",
        "len(df.dropna())\n",
        "      )"
      ],
      "execution_count": 4,
      "outputs": [
        {
          "output_type": "stream",
          "text": [
            "8364\n"
          ],
          "name": "stdout"
        }
      ]
    },
    {
      "cell_type": "code",
      "metadata": {
        "id": "i6-RNA83AWJB"
      },
      "source": [
        ""
      ],
      "execution_count": null,
      "outputs": []
    }
  ]
}